{
 "cells": [
  {
   "cell_type": "markdown",
   "metadata": {},
   "source": [
    "# Sequential pattern mining(SPM) - Rules extraction\n",
    "\n",
    "Using the extracted **frequent sequential patterns**, filters and keeps only the partners **ending in the target event**. After this it makes a dictionary with the rules(patterns) that have **great support**. Finally, continuously check whether **any pattern** in dictionary **applies** to **testing dataset** and displays an appropriate message."
   ]
  },
  {
   "cell_type": "markdown",
   "metadata": {},
   "source": [
    "### Setup"
   ]
  },
  {
   "cell_type": "code",
   "execution_count": 1,
   "metadata": {},
   "outputs": [],
   "source": [
    "#Make the necessary imports.\n",
    "\n",
    "import re, copy,sys\n",
    "from collections import deque"
   ]
  },
  {
   "cell_type": "markdown",
   "metadata": {},
   "source": [
    "### Init variables"
   ]
  },
  {
   "cell_type": "code",
   "execution_count": 2,
   "metadata": {},
   "outputs": [],
   "source": [
    "ifile = ifile = open(\"C:/Users/Public/ptyxiakh/training_my_dataset2_results2.csv\", \"r\") #open(sys.argv[1],\"r\")\n",
    "\n",
    "target_event = 11 #target event\n",
    "target_event_sup = 3 #support of the target event\n",
    "rules_list = [] #empty list"
   ]
  },
  {
   "cell_type": "markdown",
   "metadata": {},
   "source": [
    "### Extract the rule list"
   ]
  },
  {
   "cell_type": "code",
   "execution_count": 13,
   "metadata": {},
   "outputs": [
    {
     "name": "stdout",
     "output_type": "stream",
     "text": [
      "The rule list is:\n",
      "deque([(0, '3'), (4, '11')])\n",
      "deque([(0, '4'), (4, '11')])\n",
      "deque([(0, '47'), (4, '11')])\n",
      "deque([(0, '45'), (4, '11')])\n",
      "deque([(0, '457'), (4, '11')])\n",
      "deque([(0, '5'), (4, '11')])\n",
      "deque([(0, '57'), (4, '11')])\n",
      "deque([(0, '7'), (4, '11')])\n"
     ]
    }
   ],
   "source": [
    "i = 0\n",
    "for line in ifile: #for each line of the .csv file\n",
    "    rule = deque([])\n",
    "    line_split = line.replace(\" \",\"\").strip().split(\"-1\") #split the line based on -1 and change \" \" to \"\"\n",
    "    STORE = True #variable that shows if the event is the target event\n",
    "    pre_day = -1 #previous day\n",
    "    \n",
    "    for token in line_split: #for every token of the splited line\n",
    "        m = re.search('\\<([0-9]+)\\>([0-9]+)', token) #take the numbrer, which is inside < >\n",
    "        if(m is not None): \n",
    "            day = int(m.group(1))\n",
    "            if(pre_day != -1): #if there is a previous day\n",
    "                day = int(m.group(1))-pre_day\n",
    "                \n",
    "            pre_day = int(m.group(1)) \n",
    "            event = m.group(2)\n",
    "            rule.append((day,event))\n",
    "            \n",
    "            STORE = (event == str(target_event)) #True if event is the target event, else False\n",
    "            \n",
    "        m = re.search('\\#SUP:([0-9]+)', token) #take the number, which is after #\n",
    "        if(m is not None):\n",
    "            sup = m.group(1) #support of the pattern\n",
    "            STORE = (STORE and int(sup) >= int(target_event_sup)) #True if STORE and suppurt of pattern >= support of target event\n",
    "            \n",
    "    if(STORE):\n",
    "        rules_list.append(rule) #append the rule at the rule list\n",
    "        i += 1\n",
    "\n",
    "rules_list = sorted(rules_list, key=len) #sorted by the length of the rules\n",
    "\n",
    "\n",
    "print(\"The rule list is:\")\n",
    "for i in range(0,len(rules_list)):\n",
    "    print(rules_list[i])"
   ]
  },
  {
   "cell_type": "markdown",
   "metadata": {},
   "source": [
    "### Change rules from list to dictionary "
   ]
  },
  {
   "cell_type": "code",
   "execution_count": 14,
   "metadata": {},
   "outputs": [
    {
     "name": "stdout",
     "output_type": "stream",
     "text": [
      "The rule keys are:\n",
      "dict_keys(['3', '4', '47', '45', '457', '5', '57', '7'])\n"
     ]
    }
   ],
   "source": [
    "rules_dict = {} #dictionary for the rules\n",
    "\n",
    "for rule in rules_list:# for every rule in rule list\n",
    "    first_event = rule[0][1] #first event of the rule\n",
    "    \n",
    "    #append(add) rule to dicrionary\n",
    "    if(first_event not in rules_dict.keys()):\n",
    "        rule.popleft()\n",
    "        rules_dict[first_event] = [rule] \n",
    "    else:\n",
    "        rule.popleft()\n",
    "        rules_dict[first_event].append(rule)\n",
    "\n",
    "print(\"The rule keys are:\")\n",
    "print(rules_dict.keys())\n",
    "\n",
    "ifile.close()"
   ]
  },
  {
   "cell_type": "markdown",
   "metadata": {},
   "source": [
    "## Predict failure based on the rules"
   ]
  },
  {
   "cell_type": "markdown",
   "metadata": {},
   "source": [
    "### Init the necessary variables"
   ]
  },
  {
   "cell_type": "code",
   "execution_count": 17,
   "metadata": {},
   "outputs": [],
   "source": [
    "day_cnt = 0 #timestamp(time) counter\n",
    "ep_count=1 #counter for the episodes\n",
    "ifile = open(\"C:/Users/Public/ptyxiakh/testing_my_dataset2_spm.csv\", \"r\") #open(sys.argv[2],\"r\") #path to spm testing dataset "
   ]
  },
  {
   "cell_type": "markdown",
   "metadata": {},
   "source": [
    "### Check for the pattern and make warnings"
   ]
  },
  {
   "cell_type": "code",
   "execution_count": 18,
   "metadata": {},
   "outputs": [
    {
     "name": "stdout",
     "output_type": "stream",
     "text": [
      "-------------------------\n",
      "For episode 1\n",
      "-------------------------\n",
      "0> Warning in 4 days expect a fault!, cause of rule: 3 -> 11\n",
      "0> Warning in 4 days expect a fault!, cause of rule: 4 -> 11\n",
      "0> Warning in 4 days expect a fault!, cause of rule: 5 -> 11\n",
      "0> Warning in 4 days expect a fault!, cause of rule: 5 -> 11\n",
      "0> Warning in 4 days expect a fault!, cause of rule: 7 -> 11\n",
      "1> Warning in 4 days expect a fault!, cause of rule: 4 -> 11\n",
      "1> Warning in 4 days expect a fault!, cause of rule: 5 -> 11\n",
      "1> Warning in 4 days expect a fault!, cause of rule: 7 -> 11\n",
      "2> Warning in 4 days expect a fault!, cause of rule: 3 -> 11\n",
      "2> Warning in 4 days expect a fault!, cause of rule: 5 -> 11\n",
      "2> Warning in 4 days expect a fault!, cause of rule: 4 -> 11\n",
      "3> Warning in 4 days expect a fault!, cause of rule: 3 -> 11\n",
      "3> Warning in 4 days expect a fault!, cause of rule: 4 -> 11\n",
      "3> Warning in 4 days expect a fault!, cause of rule: 5 -> 11\n",
      "3> Warning in 4 days expect a fault!, cause of rule: 7 -> 11\n",
      "3> Warning in 4 days expect a fault!, cause of rule: 5 -> 11\n",
      "4> Warning in 4 days expect a fault!, cause of rule: 3 -> 11\n",
      "4> Warning in 4 days expect a fault!, cause of rule: 4 -> 11\n",
      "4> Warning in 4 days expect a fault!, cause of rule: 5 -> 11\n",
      "4> Warning in 4 days expect a fault!, cause of rule: 7 -> 11\n",
      "4> Warning in 4 days expect a fault!, cause of rule: 4 -> 11\n",
      "4> Warning in 4 days expect a fault!, cause of rule: 7 -> 11\n",
      "5> Warning in 4 days expect a fault!, cause of rule: 4 -> 11\n",
      "5> Warning in 4 days expect a fault!, cause of rule: 7 -> 11\n",
      "5> Warning in 4 days expect a fault!, cause of rule: 4 -> 11\n",
      "5> Warning in 4 days expect a fault!, cause of rule: 7 -> 11\n",
      "6> Failure\n",
      "-------------------------\n",
      "For episode 2\n",
      "-------------------------\n",
      "0> Warning in 4 days expect a fault!, cause of rule: 3 -> 11\n",
      "0> Warning in 4 days expect a fault!, cause of rule: 4 -> 11\n",
      "0> Warning in 4 days expect a fault!, cause of rule: 5 -> 11\n",
      "0> Warning in 4 days expect a fault!, cause of rule: 7 -> 11\n",
      "0> Warning in 4 days expect a fault!, cause of rule: 3 -> 11\n",
      "1> Warning in 4 days expect a fault!, cause of rule: 4 -> 11\n",
      "1> Warning in 4 days expect a fault!, cause of rule: 5 -> 11\n",
      "1> Warning in 4 days expect a fault!, cause of rule: 7 -> 11\n",
      "1> Warning in 4 days expect a fault!, cause of rule: 3 -> 11\n",
      "1> Warning in 4 days expect a fault!, cause of rule: 5 -> 11\n",
      "2> Warning in 4 days expect a fault!, cause of rule: 3 -> 11\n",
      "2> Warning in 4 days expect a fault!, cause of rule: 4 -> 11\n",
      "2> Warning in 4 days expect a fault!, cause of rule: 7 -> 11\n",
      "2> Warning in 4 days expect a fault!, cause of rule: 7 -> 11\n",
      "3> Warning in 4 days expect a fault!, cause of rule: 3 -> 11\n",
      "3> Warning in 4 days expect a fault!, cause of rule: 4 -> 11\n",
      "3> Warning in 4 days expect a fault!, cause of rule: 5 -> 11\n",
      "3> Warning in 4 days expect a fault!, cause of rule: 3 -> 11\n",
      "3> Warning in 4 days expect a fault!, cause of rule: 4 -> 11\n",
      "4> Failure\n"
     ]
    }
   ],
   "source": [
    "for line in ifile: #for every line of the file(for each episode)\n",
    "    \n",
    "    print(\"-------------------------\")\n",
    "    print(\"For episode\",ep_count) #for every episode\n",
    "    print(\"-------------------------\")\n",
    "    \n",
    "    ep_count+=1 \n",
    "    line = line.replace(\"-2\",\"\").split(\"-1\") #split the line based on -2 and change \"-2\" to \"\"\n",
    "    day_cnt = 0 \n",
    "    \n",
    "    for day in line: #for every day of the episode\n",
    "        \n",
    "        events = re.findall(\"\\ ([0-9]+)\",day) #take the events of the day\n",
    "        if(len(events)==0): continue #if there is no events continue with the next episode\n",
    "            \n",
    "        for event in events: #for every event of the day\n",
    "            \n",
    "            if(str(event) == str(target_event)): #if the event is the target event\n",
    "                print (str(day_cnt) + \"> Failure\") #print a Failure message\n",
    "                \n",
    "            if(str(event) in rules_dict.keys()): #if the event is in the keys of rules' dicitonary\n",
    "                \n",
    "                rules_to_activate = copy.deepcopy(rules_dict[str(event)]) #check which rules should be enabled\n",
    "                \n",
    "                if rules_to_activate:\n",
    "                    for rule in rules_to_activate and rules_to_activate: #for every rule\n",
    "                        if rule:\n",
    "                            \n",
    "                            act_rule = rule.popleft()\n",
    "                            act_day = act_rule[0] #act day\n",
    "                            act_event = act_rule[1] #act event\n",
    "                            \n",
    "                            if(str(act_event) == str(target_event)): #if act event is the target evet\n",
    "                                \n",
    "                                #print a Warning message\n",
    "                                print (str(day_cnt)+\"> Warning in \" + str(act_day) + \" days expect a fault!, cause of rule: \"+str(event)+\" -> \"+(str(act_event)))\n",
    "                                continue\n",
    "\n",
    "        day_cnt += 1\n",
    "\n",
    "\n",
    "ifile.close()"
   ]
  }
 ],
 "metadata": {
  "kernelspec": {
   "display_name": "Python 3",
   "language": "python",
   "name": "python3"
  },
  "language_info": {
   "codemirror_mode": {
    "name": "ipython",
    "version": 3
   },
   "file_extension": ".py",
   "mimetype": "text/x-python",
   "name": "python",
   "nbconvert_exporter": "python",
   "pygments_lexer": "ipython3",
   "version": "3.7.4"
  }
 },
 "nbformat": 4,
 "nbformat_minor": 2
}
